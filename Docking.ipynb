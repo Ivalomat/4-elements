{
  "nbformat": 4,
  "nbformat_minor": 0,
  "metadata": {
    "colab": {
      "provenance": [],
      "authorship_tag": "ABX9TyNHqR1DJS8/+SAVC3zvOOyf",
      "include_colab_link": true
    },
    "kernelspec": {
      "name": "python3",
      "display_name": "Python 3"
    },
    "language_info": {
      "name": "python"
    }
  },
  "cells": [
    {
      "cell_type": "markdown",
      "metadata": {
        "id": "view-in-github",
        "colab_type": "text"
      },
      "source": [
        "<a href=\"https://colab.research.google.com/github/Ivalomat/4-elements/blob/revisions/Docking.ipynb\" target=\"_parent\"><img src=\"https://colab.research.google.com/assets/colab-badge.svg\" alt=\"Open In Colab\"/></a>"
      ]
    },
    {
      "cell_type": "code",
      "execution_count": null,
      "metadata": {
        "id": "g4I7S6jeurgQ"
      },
      "outputs": [],
      "source": [
        "import pandas as pd\n",
        "from rdkit import Chem\n",
        "from rdkit.Chem import AllChem\n",
        "import os\n",
        "import subprocess\n",
        "\n",
        "# Cargar base de datos\n",
        "df = pd.read_csv(\"Enamine10k_scores.csv\")\n",
        "ligand_dir = \"ligands\"\n",
        "os.makedirs(ligand_dir, exist_ok=True)\n",
        "\n",
        "for idx, row in df.iterrows():\n",
        "    smiles = row[\"SMILES\"]\n",
        "    mol_id = f\"mol_{idx:04d}\"\n",
        "    mol = Chem.MolFromSmiles(smiles)\n",
        "    mol = Chem.AddHs(mol)\n",
        "    AllChem.EmbedMolecule(mol)\n",
        "    AllChem.UFFOptimizeMolecule(mol)\n",
        "\n",
        "    sdf_path = os.path.join(ligand_dir, f\"{mol_id}.sdf\")\n",
        "    pdbqt_path = os.path.join(ligand_dir, f\"{mol_id}.pdbqt\")\n",
        "\n",
        "    # Guardar como SDF\n",
        "    writer = Chem.SDWriter(sdf_path)\n",
        "    writer.write(mol)\n",
        "    writer.close()\n",
        "\n",
        "    # Convertir a PDBQT usando Open Babel\n",
        "    subprocess.run([\"obabel\", sdf_path, \"-O\", pdbqt_path, \"--gen3d\"])\n",
        "\n",
        "print(\"Conversión a PDBQT completada.\")"
      ]
    },
    {
      "cell_type": "code",
      "source": [
        "import os\n",
        "import subprocess\n",
        "\n",
        "# Parámetros del docking según el artículo\n",
        "CENTER_X = 33.19\n",
        "CENTER_Y = 1.06\n",
        "CENTER_Z = 15.62\n",
        "SIZE_X = 30\n",
        "SIZE_Y = 30\n",
        "SIZE_Z = 30\n",
        "EXHAUSTIVENESS = 8\n",
        "NUM_MODES = 9\n",
        "ENERGY_RANGE = 3\n",
        "\n",
        "RECEPTOR = \"receptor.pdbqt\"\n",
        "LIGANDS_DIR = \"ligands\"\n",
        "OUTPUT_DIR = \"results\"\n",
        "os.makedirs(OUTPUT_DIR, exist_ok=True)\n",
        "\n",
        "for ligand_file in os.listdir(LIGANDS_DIR):\n",
        "    if ligand_file.endswith(\".pdbqt\"):\n",
        "        ligand_path = os.path.join(LIGANDS_DIR, ligand_file)\n",
        "        out_path = os.path.join(OUTPUT_DIR, f\"{ligand_file.replace('.pdbqt', '')}_out.pdbqt\")\n",
        "        log_path = os.path.join(OUTPUT_DIR, f\"{ligand_file.replace('.pdbqt', '')}_log.txt\")\n",
        "\n",
        "        command = [\n",
        "            \"vina\",\n",
        "            \"--receptor\", RECEPTOR,\n",
        "            \"--ligand\", ligand_path,\n",
        "            \"--center_x\", str(CENTER_X),\n",
        "            \"--center_y\", str(CENTER_Y),\n",
        "            \"--center_z\", str(CENTER_Z),\n",
        "            \"--size_x\", str(SIZE_X),\n",
        "            \"--size_y\", str(SIZE_Y),\n",
        "            \"--size_z\", str(SIZE_Z),\n",
        "            \"--out\", out_path,\n",
        "            \"--log\", log_path,\n",
        "            \"--exhaustiveness\", str(EXHAUSTIVENESS),\n",
        "            \"--num_modes\", str(NUM_MODES),\n",
        "            \"--energy_range\", str(ENERGY_RANGE)\n",
        "        ]\n",
        "\n",
        "        print(f\"Docking {ligand_file} ...\")\n",
        "        subprocess.run(command)\n",
        "\n",
        "print(\"Docking terminado.\")"
      ],
      "metadata": {
        "id": "JyvdoHPeuxUn"
      },
      "execution_count": null,
      "outputs": []
    },
    {
      "cell_type": "code",
      "source": [
        "from quick_dock import qvina\n",
        "\n",
        "docking_instance = qvina.QVina(protein_file=\"proteinclean.pdb\", ext_ligands=\"SMILES_id.csv\")\n",
        "docking_instance.prepare_protein(overwrite=False)\n",
        "docking_instance.prepare_ligands(overwrite=True)\n",
        "docking_instance.convert_all_pdbs_to_pdbqt()\n",
        "docking_instance.run_docking(config_dict={\"center_x\": 33.19,\n",
        "                                          \"center_y\": 1.06,\n",
        "                                          \"center_z\": 15.62,\n",
        "                                          \"size_x\": 30,\n",
        "                                          \"size_y\": 30,\n",
        "                                          \"size_z\": 30,\n",
        "                                          \"cpu\": 16,\n",
        "                                          \"exhaustiveness\": 16,\n",
        "                                          \"num_modes\": 3,\n",
        "                                          \"energy_range\": 3,}, overwrite=True)\n",
        "results = docking_instance.analyze_results()\n"
      ],
      "metadata": {
        "id": "D-2elUsJ88WJ"
      },
      "execution_count": null,
      "outputs": []
    },
    {
      "cell_type": "code",
      "source": [
        "import pandas as pd\n",
        "import matplotlib.pyplot as plt\n",
        "\n",
        "def load_csv(path, ligand_col, score_col, label):\n",
        "    df = pd.read_csv(path, usecols=[ligand_col, score_col])\n",
        "    df = df.rename(columns={ligand_col: 'ligand_id', score_col: label})\n",
        "    return df\n",
        "\n",
        "file1 = {\n",
        "    'path': 'SMILES_id.csv',\n",
        "    'ligand_col': 'SMILES',\n",
        "    'score_col': 'SCORE',\n",
        "    'label': 'run1'\n",
        "}\n",
        "file2 = {\n",
        "    'path': 'ligands_curated.csv',\n",
        "    'ligand_col': 'SMILES',\n",
        "    'score_col': 'SCORE',\n",
        "    'label': 'run2'\n",
        "}\n",
        "\n",
        "try:\n",
        "    df1 = load_csv(**file1)\n",
        "    df2 = load_csv(**file2)\n",
        "    df  = pd.merge(df1, df2, on='ligand_id', how='inner')\n",
        "\n",
        "    corr = df[[file1['label'], file2['label']]].corr()\n",
        "    print(\"Matriz de correlación:\\n\", corr, \"\\n\")\n",
        "\n",
        "    diff_col = f\"diff_{file1['label']}_{file2['label']}\"\n",
        "    df[diff_col] = df[file1['label']] - df[file2['label']]\n",
        "    print(\"Resumen de diferencias:\\n\", df[diff_col].describe(), \"\\n\")\n",
        "\n",
        "    plt.scatter(df[file1['label']], df[file2['label']], alpha=0.5)\n",
        "    plt.xlabel(file1['label'])\n",
        "    plt.ylabel(file2['label'])\n",
        "    plt.title(f\"{file1['label']} vs {file2['label']}\")\n",
        "    plt.grid(True)\n",
        "    plt.show()\n",
        "\n",
        "except FileNotFoundError:\n",
        "    print(\"Error: No se encontró uno de los archivos. Verifica las rutas especificadas.\")"
      ],
      "metadata": {
        "id": "dwML0Sh3vHBX"
      },
      "execution_count": null,
      "outputs": []
    }
  ]
}