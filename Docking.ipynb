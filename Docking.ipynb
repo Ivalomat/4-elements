{
  "nbformat": 4,
  "nbformat_minor": 0,
  "metadata": {
    "colab": {
      "provenance": [],
      "authorship_tag": "ABX9TyMsoGDRjpJb/TJ60ufNHqv3",
      "include_colab_link": true
    },
    "kernelspec": {
      "name": "python3",
      "display_name": "Python 3"
    },
    "language_info": {
      "name": "python"
    }
  },
  "cells": [
    {
      "cell_type": "markdown",
      "metadata": {
        "id": "view-in-github",
        "colab_type": "text"
      },
      "source": [
        "<a href=\"https://colab.research.google.com/github/Ivalomat/4-elements/blob/main/Docking.ipynb\" target=\"_parent\"><img src=\"https://colab.research.google.com/assets/colab-badge.svg\" alt=\"Open In Colab\"/></a>"
      ]
    },
    {
      "cell_type": "code",
      "execution_count": null,
      "metadata": {
        "id": "g4I7S6jeurgQ"
      },
      "outputs": [],
      "source": [
        "import pandas as pd\n",
        "from rdkit import Chem\n",
        "from rdkit.Chem import AllChem\n",
        "import os\n",
        "import subprocess\n",
        "\n",
        "# Cargar base de datos\n",
        "df = pd.read_csv(\"Enamine10k_scores.csv\")\n",
        "ligand_dir = \"ligands\"\n",
        "os.makedirs(ligand_dir, exist_ok=True)\n",
        "\n",
        "for idx, row in df.iterrows():\n",
        "    smiles = row[\"SMILES\"]\n",
        "    mol_id = f\"mol_{idx:04d}\"\n",
        "    mol = Chem.MolFromSmiles(smiles)\n",
        "    mol = Chem.AddHs(mol)\n",
        "    AllChem.EmbedMolecule(mol)\n",
        "    AllChem.UFFOptimizeMolecule(mol)\n",
        "\n",
        "    sdf_path = os.path.join(ligand_dir, f\"{mol_id}.sdf\")\n",
        "    pdbqt_path = os.path.join(ligand_dir, f\"{mol_id}.pdbqt\")\n",
        "\n",
        "    # Guardar como SDF\n",
        "    writer = Chem.SDWriter(sdf_path)\n",
        "    writer.write(mol)\n",
        "    writer.close()\n",
        "\n",
        "    # Convertir a PDBQT usando Open Babel\n",
        "    subprocess.run([\"obabel\", sdf_path, \"-O\", pdbqt_path, \"--gen3d\"])\n",
        "\n",
        "print(\"Conversión a PDBQT completada.\")"
      ]
    },
    {
      "cell_type": "code",
      "source": [
        "import os\n",
        "import subprocess\n",
        "\n",
        "# Parámetros del docking según el artículo\n",
        "CENTER_X = 33.19\n",
        "CENTER_Y = 1.06\n",
        "CENTER_Z = 15.62\n",
        "SIZE_X = 30\n",
        "SIZE_Y = 30\n",
        "SIZE_Z = 30\n",
        "EXHAUSTIVENESS = 8\n",
        "NUM_MODES = 9\n",
        "ENERGY_RANGE = 3\n",
        "\n",
        "RECEPTOR = \"receptor.pdbqt\"\n",
        "LIGANDS_DIR = \"ligands\"\n",
        "OUTPUT_DIR = \"results\"\n",
        "os.makedirs(OUTPUT_DIR, exist_ok=True)\n",
        "\n",
        "for ligand_file in os.listdir(LIGANDS_DIR):\n",
        "    if ligand_file.endswith(\".pdbqt\"):\n",
        "        ligand_path = os.path.join(LIGANDS_DIR, ligand_file)\n",
        "        out_path = os.path.join(OUTPUT_DIR, f\"{ligand_file.replace('.pdbqt', '')}_out.pdbqt\")\n",
        "        log_path = os.path.join(OUTPUT_DIR, f\"{ligand_file.replace('.pdbqt', '')}_log.txt\")\n",
        "\n",
        "        command = [\n",
        "            \"vina\",\n",
        "            \"--receptor\", RECEPTOR,\n",
        "            \"--ligand\", ligand_path,\n",
        "            \"--center_x\", str(CENTER_X),\n",
        "            \"--center_y\", str(CENTER_Y),\n",
        "            \"--center_z\", str(CENTER_Z),\n",
        "            \"--size_x\", str(SIZE_X),\n",
        "            \"--size_y\", str(SIZE_Y),\n",
        "            \"--size_z\", str(SIZE_Z),\n",
        "            \"--out\", out_path,\n",
        "            \"--log\", log_path,\n",
        "            \"--exhaustiveness\", str(EXHAUSTIVENESS),\n",
        "            \"--num_modes\", str(NUM_MODES),\n",
        "            \"--energy_range\", str(ENERGY_RANGE)\n",
        "        ]\n",
        "\n",
        "        print(f\"Docking {ligand_file} ...\")\n",
        "        subprocess.run(command)\n",
        "\n",
        "print(\"Docking terminado.\")"
      ],
      "metadata": {
        "id": "JyvdoHPeuxUn"
      },
      "execution_count": null,
      "outputs": []
    },
    {
      "cell_type": "code",
      "source": [
        "import pandas as pd\n",
        "import os\n",
        "import re\n",
        "\n",
        "# Cargar resultados originales\n",
        "df = pd.read_csv(\"Enamine10k_scores.csv\")\n",
        "my_scores = []\n",
        "\n",
        "for idx in range(len(df)):\n",
        "    mol_id = f\"mol_{idx:04d}\"\n",
        "    log_file = f\"results/{mol_id}_log.txt\"\n",
        "    affinity = None\n",
        "    if os.path.exists(log_file):\n",
        "        with open(log_file, 'r') as f:\n",
        "            for line in f:\n",
        "                if \"REMARK VINA RESULT\" in line:\n",
        "                    affinity = float(re.findall(r\"-?\\\\d+\\\\.\\\\d+\", line)[0])\n",
        "                    break\n",
        "    my_scores.append(affinity)\n",
        "\n",
        "df[\"My Docking score (kcal/mol)\"] = my_scores\n",
        "df.to_csv(\"docking_comparison.csv\", index=False)\n",
        "print(\"✅ Archivo comparativo generado: docking_comparison.csv\")"
      ],
      "metadata": {
        "id": "dwML0Sh3vHBX"
      },
      "execution_count": null,
      "outputs": []
    }
  ]
}